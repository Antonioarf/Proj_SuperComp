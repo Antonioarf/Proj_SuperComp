{
 "cells": [
  {
   "cell_type": "code",
   "execution_count": null,
   "metadata": {},
   "outputs": [],
   "source": [
    "import subprocess\n",
    "import time\n",
    "\n",
    "def roda_com_entrada(ex, in_f):\n",
    "    with open(in_f) as f:\n",
    "        start = time.perf_counter()\n",
    "        proc = subprocess.run([ex], input=f.read(), text=True, capture_output=True)\n",
    "        end = time.perf_counter()\n",
    "\n",
    "    return proc.stdout, end-start"
   ]
  },
  {
   "cell_type": "code",
   "execution_count": null,
   "metadata": {},
   "outputs": [],
   "source": [
    "roda_com_entrada('./insumos/aulas/01-introducao/busca-local-1', './insumos/aulas/01-introducao/entradas-busca-local/in-0.txt')\n"
   ]
  },
  {
   "cell_type": "code",
   "execution_count": null,
   "metadata": {},
   "outputs": [],
   "source": [
    "arqs = [f'./insumos/aulas/01-introducao/entradas-busca-local/in-{i}.txt' for i in range(10)]\n",
    "tempos = [roda_com_entrada('./insumos/aulas/01-introducao/busca-local-1', arq)[1] for arq in arqs]"
   ]
  },
  {
   "cell_type": "code",
   "execution_count": null,
   "metadata": {},
   "outputs": [],
   "source": [
    "N = []\n",
    "for arq in arqs:\n",
    "    with open(arq) as f:\n",
    "        n = int(f.readlines()[0])\n",
    "        N.append(n)\n",
    "print(N)"
   ]
  },
  {
   "cell_type": "code",
   "execution_count": null,
   "metadata": {},
   "outputs": [],
   "source": [
    "import matplotlib.pyplot as plt\n",
    "fig, ax = plt.subplots(figsize=(10,5))\n",
    "ax.set_xlabel('n')\n",
    "ax.set_ylabel('tempo (seg)')\n",
    "ax.plot(N, tempos)\n",
    "plt.show()"
   ]
  },
  {
   "cell_type": "code",
   "execution_count": null,
   "metadata": {},
   "outputs": [],
   "source": [
    "tempos2 = [roda_com_entrada('./insumos/aulas/01-introducao/busca-local-2', arq)[1] for arq in arqs]\n",
    "fig, ax = plt.subplots(figsize=(10,5))\n",
    "ax.set_xlabel('n')\n",
    "ax.set_ylabel('tempo (seg)')\n",
    "ax.plot(N, tempos, label='busca-local-1')\n",
    "plt.plot(N, tempos2, label='busca-local-2')\n",
    "plt.legend()\n",
    "plt.show()"
   ]
  },
  {
   "cell_type": "code",
   "execution_count": null,
   "metadata": {},
   "outputs": [],
   "source": [
    "tempos3 = [roda_com_entrada('./insumos/aulas/01-introducao/busca-local-1-par', arq)[1] for arq in arqs]\n",
    "tempos4 = [roda_com_entrada('./insumos/aulas/01-introducao/busca-local-2-par', arq)[1] for arq in arqs]\n",
    "fig, ax = plt.subplots(figsize=(10,5))\n",
    "ax.set_xlabel('n')\n",
    "ax.set_ylabel('tempo (seg)')\n",
    "ax.plot(N, tempos, label='busca-local-1')\n",
    "plt.plot(N, tempos2, label='busca-local-2')\n",
    "ax.plot(N, tempos3, label='busca-local-1-par')\n",
    "plt.plot(N, tempos4, label='busca-local-2-par')\n",
    "plt.legend()\n",
    "plt.show()"
   ]
  },
  {
   "cell_type": "code",
   "execution_count": null,
   "metadata": {},
   "outputs": [],
   "source": []
  }
 ],
 "metadata": {
  "language_info": {
   "name": "python"
  },
  "orig_nbformat": 4
 },
 "nbformat": 4,
 "nbformat_minor": 2
}
